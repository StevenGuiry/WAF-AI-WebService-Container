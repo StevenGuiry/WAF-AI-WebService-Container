{
 "cells": [
  {
   "cell_type": "markdown",
   "metadata": {
    "collapsed": false
   },
   "source": [
    "# Libraries to Import"
   ]
  },
  {
   "cell_type": "code",
   "execution_count": 18,
   "metadata": {
    "collapsed": false,
    "pycharm": {
     "name": "#%%\n"
    }
   },
   "outputs": [],
   "source": [
    "import matplotlib.pyplot as plt\n",
    "import numpy as np\n",
    "import pandas as pd\n",
    "import seaborn as sns\n",
    "\n",
    "pd.set_option('display.max_columns', 500)\n",
    "pd.set_option('display.width', 1000)\n",
    "sns.set_style(\"darkgrid\")\n",
    "\n",
    "DEBUG = True\n",
    "SEED = 343"
   ]
  },
  {
   "cell_type": "code",
   "execution_count": 19,
   "metadata": {
    "collapsed": false,
    "pycharm": {
     "name": "#%%\n"
    }
   },
   "outputs": [],
   "source": [
    "from sklearn.model_selection import train_test_split\n",
    "from sklearn.metrics import accuracy_score\n",
    "from sklearn.metrics import confusion_matrix, classification_report\n",
    "from sklearn.model_selection import train_test_split\n",
    "from sklearn.preprocessing import StandardScaler\n",
    "from sklearn.svm import SVC\n",
    "from sklearn.ensemble import RandomForestClassifier\n",
    "from imblearn.pipeline import Pipeline\n",
    "from xgboost import XGBClassifier\n",
    "from sklearn.tree import DecisionTreeClassifier\n",
    "from sklearn.ensemble import ExtraTreesClassifier\n",
    "from sklearn.neighbors import KNeighborsClassifier\n",
    "from sklearn.linear_model import LogisticRegression\n",
    "from sklearn.model_selection import RepeatedStratifiedKFold\n",
    "from sklearn.model_selection import cross_val_score\n",
    "from sklearn.feature_selection import RFECV\n",
    "import itertools"
   ]
  },
  {
   "cell_type": "markdown",
   "metadata": {
    "collapsed": false
   },
   "source": [
    "# Load Data"
   ]
  },
  {
   "cell_type": "code",
   "execution_count": 20,
   "metadata": {
    "collapsed": false,
    "pycharm": {
     "name": "#%%\n"
    }
   },
   "outputs": [
    {
     "name": "stdout",
     "output_type": "stream",
     "text": [
      "(2489, 12)\n"
     ]
    },
    {
     "data": {
      "text/html": [
       "<div>\n",
       "<style scoped>\n",
       "    .dataframe tbody tr th:only-of-type {\n",
       "        vertical-align: middle;\n",
       "    }\n",
       "\n",
       "    .dataframe tbody tr th {\n",
       "        vertical-align: top;\n",
       "    }\n",
       "\n",
       "    .dataframe thead th {\n",
       "        text-align: right;\n",
       "    }\n",
       "</style>\n",
       "<table border=\"1\" class=\"dataframe\">\n",
       "  <thead>\n",
       "    <tr style=\"text-align: right;\">\n",
       "      <th></th>\n",
       "      <th>Method</th>\n",
       "      <th>Path</th>\n",
       "      <th>Body</th>\n",
       "      <th>Single_Q</th>\n",
       "      <th>Double_Q</th>\n",
       "      <th>Dashes</th>\n",
       "      <th>Braces</th>\n",
       "      <th>Slashes</th>\n",
       "      <th>Dots</th>\n",
       "      <th>Asterik</th>\n",
       "      <th>Bad_Words</th>\n",
       "      <th>target</th>\n",
       "    </tr>\n",
       "  </thead>\n",
       "  <tbody>\n",
       "    <tr>\n",
       "      <th>0</th>\n",
       "      <td>GET</td>\n",
       "      <td>/6195b252_3973263ec9bb3e4b938c5c86e3e974cdd8e2...</td>\n",
       "      <td>NaN</td>\n",
       "      <td>0</td>\n",
       "      <td>0</td>\n",
       "      <td>0</td>\n",
       "      <td>0</td>\n",
       "      <td>6</td>\n",
       "      <td>2</td>\n",
       "      <td>0</td>\n",
       "      <td>0</td>\n",
       "      <td>0</td>\n",
       "    </tr>\n",
       "    <tr>\n",
       "      <th>1</th>\n",
       "      <td>GET</td>\n",
       "      <td>/v1/jwplayer6/ping.gif?h=2100168025&amp;e=t&amp;n=8063...</td>\n",
       "      <td>NaN</td>\n",
       "      <td>0</td>\n",
       "      <td>0</td>\n",
       "      <td>0</td>\n",
       "      <td>0</td>\n",
       "      <td>3</td>\n",
       "      <td>9</td>\n",
       "      <td>0</td>\n",
       "      <td>0</td>\n",
       "      <td>0</td>\n",
       "    </tr>\n",
       "    <tr>\n",
       "      <th>2</th>\n",
       "      <td>GET</td>\n",
       "      <td>/6195b252_3973263ec9bb3e4b938c5c86e3e974cdd8e2...</td>\n",
       "      <td>NaN</td>\n",
       "      <td>0</td>\n",
       "      <td>0</td>\n",
       "      <td>0</td>\n",
       "      <td>0</td>\n",
       "      <td>6</td>\n",
       "      <td>2</td>\n",
       "      <td>0</td>\n",
       "      <td>0</td>\n",
       "      <td>0</td>\n",
       "    </tr>\n",
       "    <tr>\n",
       "      <th>3</th>\n",
       "      <td>GET</td>\n",
       "      <td>/6195b252_3973263ec9bb3e4b938c5c86e3e974cdd8e2...</td>\n",
       "      <td>NaN</td>\n",
       "      <td>0</td>\n",
       "      <td>0</td>\n",
       "      <td>0</td>\n",
       "      <td>0</td>\n",
       "      <td>6</td>\n",
       "      <td>2</td>\n",
       "      <td>0</td>\n",
       "      <td>0</td>\n",
       "      <td>0</td>\n",
       "    </tr>\n",
       "    <tr>\n",
       "      <th>4</th>\n",
       "      <td>GET</td>\n",
       "      <td>/v1/jwplayer6/ping.gif?h=-1588266826&amp;e=ret&amp;n=1...</td>\n",
       "      <td>NaN</td>\n",
       "      <td>0</td>\n",
       "      <td>0</td>\n",
       "      <td>0</td>\n",
       "      <td>0</td>\n",
       "      <td>3</td>\n",
       "      <td>9</td>\n",
       "      <td>0</td>\n",
       "      <td>0</td>\n",
       "      <td>0</td>\n",
       "    </tr>\n",
       "  </tbody>\n",
       "</table>\n",
       "</div>"
      ],
      "text/plain": [
       "  Method                                               Path Body  Single_Q  Double_Q  Dashes  Braces  Slashes  Dots  Asterik  Bad_Words  target\n",
       "0    GET  /6195b252_3973263ec9bb3e4b938c5c86e3e974cdd8e2...  NaN         0         0       0       0        6     2        0          0       0\n",
       "1    GET  /v1/jwplayer6/ping.gif?h=2100168025&e=t&n=8063...  NaN         0         0       0       0        3     9        0          0       0\n",
       "2    GET  /6195b252_3973263ec9bb3e4b938c5c86e3e974cdd8e2...  NaN         0         0       0       0        6     2        0          0       0\n",
       "3    GET  /6195b252_3973263ec9bb3e4b938c5c86e3e974cdd8e2...  NaN         0         0       0       0        6     2        0          0       0\n",
       "4    GET  /v1/jwplayer6/ping.gif?h=-1588266826&e=ret&n=1...  NaN         0         0       0       0        3     9        0          0       0"
      ]
     },
     "execution_count": 20,
     "metadata": {},
     "output_type": "execute_result"
    }
   ],
   "source": [
    "data = pd.read_csv('data/cleaned_data2.csv')\n",
    "print(data.shape)\n",
    "data.head()"
   ]
  },
  {
   "cell_type": "markdown",
   "metadata": {},
   "source": [
    "### Feature Selection"
   ]
  },
  {
   "cell_type": "markdown",
   "metadata": {
    "collapsed": false
   },
   "source": [
    "### Feature Engineering"
   ]
  },
  {
   "cell_type": "code",
   "execution_count": 21,
   "metadata": {
    "collapsed": false,
    "pycharm": {
     "name": "#%%\n"
    }
   },
   "outputs": [
    {
     "data": {
      "text/html": [
       "<div>\n",
       "<style scoped>\n",
       "    .dataframe tbody tr th:only-of-type {\n",
       "        vertical-align: middle;\n",
       "    }\n",
       "\n",
       "    .dataframe tbody tr th {\n",
       "        vertical-align: top;\n",
       "    }\n",
       "\n",
       "    .dataframe thead th {\n",
       "        text-align: right;\n",
       "    }\n",
       "</style>\n",
       "<table border=\"1\" class=\"dataframe\">\n",
       "  <thead>\n",
       "    <tr style=\"text-align: right;\">\n",
       "      <th></th>\n",
       "      <th>Method</th>\n",
       "      <th>Path</th>\n",
       "      <th>Body</th>\n",
       "      <th>Single_Q</th>\n",
       "      <th>Double_Q</th>\n",
       "      <th>Dashes</th>\n",
       "      <th>Braces</th>\n",
       "      <th>Slashes</th>\n",
       "      <th>Dots</th>\n",
       "      <th>Asterik</th>\n",
       "      <th>Bad_Words</th>\n",
       "      <th>target</th>\n",
       "      <th>Directory_Traversal</th>\n",
       "    </tr>\n",
       "  </thead>\n",
       "  <tbody>\n",
       "    <tr>\n",
       "      <th>0</th>\n",
       "      <td>GET</td>\n",
       "      <td>/6195b252_3973263ec9bb3e4b938c5c86e3e974cdd8e2...</td>\n",
       "      <td>NaN</td>\n",
       "      <td>0</td>\n",
       "      <td>0</td>\n",
       "      <td>0</td>\n",
       "      <td>0</td>\n",
       "      <td>6</td>\n",
       "      <td>2</td>\n",
       "      <td>0</td>\n",
       "      <td>0</td>\n",
       "      <td>0</td>\n",
       "      <td>True</td>\n",
       "    </tr>\n",
       "  </tbody>\n",
       "</table>\n",
       "</div>"
      ],
      "text/plain": [
       "  Method                                               Path Body  Single_Q  Double_Q  Dashes  Braces  Slashes  Dots  Asterik  Bad_Words  target  Directory_Traversal\n",
       "0    GET  /6195b252_3973263ec9bb3e4b938c5c86e3e974cdd8e2...  NaN         0         0       0       0        6     2        0          0       0                 True"
      ]
     },
     "execution_count": 21,
     "metadata": {},
     "output_type": "execute_result"
    }
   ],
   "source": [
    "data['Directory_Traversal'] = data.apply (lambda row: (row.Dots>=2 and row.Slashes>=1), axis=1)\n",
    "data.head(1)"
   ]
  },
  {
   "cell_type": "code",
   "execution_count": 22,
   "metadata": {
    "collapsed": false,
    "pycharm": {
     "name": "#%%\n"
    }
   },
   "outputs": [
    {
     "data": {
      "text/html": [
       "<div>\n",
       "<style scoped>\n",
       "    .dataframe tbody tr th:only-of-type {\n",
       "        vertical-align: middle;\n",
       "    }\n",
       "\n",
       "    .dataframe tbody tr th {\n",
       "        vertical-align: top;\n",
       "    }\n",
       "\n",
       "    .dataframe thead th {\n",
       "        text-align: right;\n",
       "    }\n",
       "</style>\n",
       "<table border=\"1\" class=\"dataframe\">\n",
       "  <thead>\n",
       "    <tr style=\"text-align: right;\">\n",
       "      <th></th>\n",
       "      <th>Method</th>\n",
       "      <th>Path</th>\n",
       "      <th>Body</th>\n",
       "      <th>Single_Q</th>\n",
       "      <th>Double_Q</th>\n",
       "      <th>Dashes</th>\n",
       "      <th>Braces</th>\n",
       "      <th>Slashes</th>\n",
       "      <th>Dots</th>\n",
       "      <th>Asterik</th>\n",
       "      <th>Bad_Words</th>\n",
       "      <th>target</th>\n",
       "      <th>Directory_Traversal</th>\n",
       "      <th>No_Quotes</th>\n",
       "    </tr>\n",
       "  </thead>\n",
       "  <tbody>\n",
       "    <tr>\n",
       "      <th>0</th>\n",
       "      <td>GET</td>\n",
       "      <td>/6195b252_3973263ec9bb3e4b938c5c86e3e974cdd8e2...</td>\n",
       "      <td>NaN</td>\n",
       "      <td>0</td>\n",
       "      <td>0</td>\n",
       "      <td>0</td>\n",
       "      <td>0</td>\n",
       "      <td>6</td>\n",
       "      <td>2</td>\n",
       "      <td>0</td>\n",
       "      <td>0</td>\n",
       "      <td>0</td>\n",
       "      <td>True</td>\n",
       "      <td>True</td>\n",
       "    </tr>\n",
       "  </tbody>\n",
       "</table>\n",
       "</div>"
      ],
      "text/plain": [
       "  Method                                               Path Body  Single_Q  Double_Q  Dashes  Braces  Slashes  Dots  Asterik  Bad_Words  target  Directory_Traversal  No_Quotes\n",
       "0    GET  /6195b252_3973263ec9bb3e4b938c5c86e3e974cdd8e2...  NaN         0         0       0       0        6     2        0          0       0                 True       True"
      ]
     },
     "execution_count": 22,
     "metadata": {},
     "output_type": "execute_result"
    }
   ],
   "source": [
    "data['No_Quotes'] = data.apply (lambda row: (row.Single_Q==0 and row.Double_Q==0), axis=1)\n",
    "data.head(1)"
   ]
  },
  {
   "cell_type": "code",
   "execution_count": 23,
   "metadata": {
    "collapsed": false,
    "pycharm": {
     "name": "#%%\n"
    }
   },
   "outputs": [
    {
     "data": {
      "text/plain": [
       "1    2158\n",
       "0     331\n",
       "Name: No_Quotes, dtype: int64"
      ]
     },
     "execution_count": 23,
     "metadata": {},
     "output_type": "execute_result"
    }
   ],
   "source": [
    "data['Directory_Traversal'] = pd.Categorical(data['Directory_Traversal']).codes\n",
    "data['No_Quotes'] = pd.Categorical(data['No_Quotes']).codes\n",
    "data.No_Quotes.value_counts()"
   ]
  },
  {
   "cell_type": "code",
   "execution_count": 24,
   "metadata": {},
   "outputs": [
    {
     "data": {
      "text/plain": [
       "<AxesSubplot:>"
      ]
     },
     "execution_count": 24,
     "metadata": {},
     "output_type": "execute_result"
    },
    {
     "data": {
      "image/png": "[encoded data removed]",
      "text/plain": [
       "<Figure size 864x1440 with 1 Axes>"
      ]
     },
     "metadata": {},
     "output_type": "display_data"
    }
   ],
   "source": [
    "# Plot that shows correlation between target and features\n",
    "(data.corr().loc['target']\n",
    " .plot(kind='barh', figsize=(12,20)))"
   ]
  },
  {
   "cell_type": "markdown",
   "metadata": {
    "collapsed": false
   },
   "source": [
    "### Training Data"
   ]
  },
  {
   "cell_type": "code",
   "execution_count": 25,
   "metadata": {},
   "outputs": [
    {
     "name": "stdout",
     "output_type": "stream",
     "text": [
      "['Single_Q', 'Double_Q', 'Dashes', 'Braces', 'Slashes', 'Dots', 'Asterik', 'Bad_Words', 'Directory_Traversal', 'No_Quotes']\n"
     ]
    }
   ],
   "source": [
    "target = 'target'\n",
    "features = data.columns.tolist()\n",
    "for c in [target, 'Method', 'Path', 'Body']:\n",
    "    features.remove(c)\n",
    "print(features)"
   ]
  },
  {
   "cell_type": "code",
   "execution_count": 26,
   "metadata": {
    "collapsed": false,
    "pycharm": {
     "name": "#%%\n"
    }
   },
   "outputs": [],
   "source": [
    "# Splitting data into train and test data\n",
    "# Split DS into train/test datasets.\n",
    "X_train, X_test, y_train, y_test = train_test_split(data[features], data[target], test_size=0.3,\n",
    "                                                    random_state=SEED)"
   ]
  },
  {
   "cell_type": "code",
   "execution_count": 27,
   "metadata": {},
   "outputs": [],
   "source": [
    "tree = DecisionTreeClassifier(random_state=SEED)\n",
    "forest = RandomForestClassifier(random_state=SEED)\n",
    "lr = LogisticRegression(random_state=SEED)\n",
    "knn = KNeighborsClassifier()\n",
    "svc = SVC(random_state=SEED)\n",
    "xgboost = XGBClassifier(random_state=SEED)\n",
    "et = ExtraTreesClassifier(random_state=SEED)"
   ]
  },
  {
   "cell_type": "code",
   "execution_count": 28,
   "metadata": {},
   "outputs": [
    {
     "name": "stdout",
     "output_type": "stream",
     "text": [
      "The accuracy score of model DecisionTreeClassifier on the DS is 0.8998\n",
      "The accuracy score of model RandomForestClassifier on the DS is 0.9000\n",
      "The accuracy score of model LogisticRegression on the DS is 0.8988\n",
      "The accuracy score of model XGBClassifier on the DS is 0.8994\n",
      "The accuracy score of model ExtraTreesClassifier on the DS is 0.8998\n"
     ]
    }
   ],
   "source": [
    "models = [tree, forest, lr, xgboost, et]\n",
    "if DEBUG:\n",
    "    for model in models:\n",
    "        cv = RepeatedStratifiedKFold(n_splits=5, n_repeats=3, random_state=SEED)\n",
    "        scores = cross_val_score(model, data[features], data[target], scoring='accuracy', cv=cv, n_jobs=-1)\n",
    "        print(f\"The accuracy score of model {type(model).__name__} on the DS is {scores.mean():.4f}\")"
   ]
  },
  {
   "cell_type": "code",
   "execution_count": 29,
   "metadata": {
    "collapsed": false,
    "pycharm": {
     "name": "#%%\n"
    }
   },
   "outputs": [
    {
     "data": {
      "text/plain": [
       "Pipeline(steps=[('scl', StandardScaler()),\n",
       "                ('clf',\n",
       "                 XGBClassifier(base_score=0.5, booster='gbtree',\n",
       "                               colsample_bylevel=1, colsample_bynode=1,\n",
       "                               colsample_bytree=1, enable_categorical=False,\n",
       "                               eval_metric='logloss', gamma=0, gpu_id=-1,\n",
       "                               importance_type=None, interaction_constraints='',\n",
       "                               learning_rate=0.3, max_delta_step=0, max_depth=1,\n",
       "                               min_child_weight=1, missing=nan,\n",
       "                               monotone_constraints='()', n_estimators=500,\n",
       "                               n_jobs=-1, num_parallel_tree=1, predictor='auto',\n",
       "                               random_state=343, reg_alpha=0, reg_lambda=1,\n",
       "                               scale_pos_weight=1, subsample=1,\n",
       "                               tree_method='exact', use_label_encoder=False,\n",
       "                               validate_parameters=1, verbosity=None))])"
      ]
     },
     "execution_count": 29,
     "metadata": {},
     "output_type": "execute_result"
    }
   ],
   "source": [
    "from sklearn.pipeline import Pipeline\n",
    "from xgboost.sklearn import XGBClassifier\n",
    "from sklearn.model_selection import RandomizedSearchCV\n",
    "\n",
    "pipe = Pipeline([\n",
    "    ('scl', StandardScaler()),\n",
    "    ('clf', XGBClassifier(n_estimators=500, learning_rate=0.3, max_depth=1, n_jobs=-1,use_label_encoder=False, \n",
    "                        eval_metric='logloss', random_state=SEED))\n",
    "    ])\n",
    "\n",
    "pipe.fit(X_train, y_train)"
   ]
  },
  {
   "cell_type": "markdown",
   "metadata": {},
   "source": [
    "### Feature Importance"
   ]
  },
  {
   "cell_type": "code",
   "execution_count": 30,
   "metadata": {},
   "outputs": [
    {
     "name": "stdout",
     "output_type": "stream",
     "text": [
      "Number of features starting: 10\n"
     ]
    }
   ],
   "source": [
    "print(\"Number of features starting:\", len(features))"
   ]
  },
  {
   "cell_type": "code",
   "execution_count": 31,
   "metadata": {},
   "outputs": [
    {
     "name": "stdout",
     "output_type": "stream",
     "text": [
      "Optimal number of features : 4\n"
     ]
    }
   ],
   "source": [
    "rfecv = RFECV(estimator=pipe['clf'], step=1, cv=2, scoring=\"accuracy\", n_jobs=-1)\n",
    "rfecv.fit(X_train, y_train)\n",
    "print(\"Optimal number of features : %d\" % rfecv.n_features_)"
   ]
  },
  {
   "cell_type": "code",
   "execution_count": 32,
   "metadata": {},
   "outputs": [
    {
     "data": {
      "text/plain": [
       "['Single_Q', 'Slashes', 'Dots', 'No_Quotes']"
      ]
     },
     "execution_count": 32,
     "metadata": {},
     "output_type": "execute_result"
    }
   ],
   "source": [
    "features_selected = np.array(features)[rfecv.support_].tolist()\n",
    "features_selected"
   ]
  },
  {
   "cell_type": "code",
   "execution_count": 33,
   "metadata": {},
   "outputs": [
    {
     "name": "stdout",
     "output_type": "stream",
     "text": [
      "      Single_Q  Slashes  Dots  No_Quotes  target\n",
      "0            0        6     2          1       0\n",
      "1            0        3     9          1       0\n",
      "2            0        6     2          1       0\n",
      "3            0        6     2          1       0\n",
      "4            0        3     9          1       0\n",
      "...        ...      ...   ...        ...     ...\n",
      "2484         1        5     3          0       1\n",
      "2485         2       20     5          0       1\n",
      "2486         2       20     6          0       1\n",
      "2487         1        5     2          0       1\n",
      "2488         2       20     5          0       1\n",
      "\n",
      "[2489 rows x 5 columns]\n"
     ]
    }
   ],
   "source": [
    "print(data.loc[:, features_selected + [target]])"
   ]
  },
  {
   "cell_type": "code",
   "execution_count": 34,
   "metadata": {},
   "outputs": [
    {
     "name": "stdout",
     "output_type": "stream",
     "text": [
      "0.8975879372621269\n"
     ]
    }
   ],
   "source": [
    "scores = cross_val_score(estimator=rfecv.estimator, X=data[features_selected], y=data[target], cv=5, n_jobs=-1)\n",
    "print(scores.mean())"
   ]
  },
  {
   "cell_type": "markdown",
   "metadata": {},
   "source": [
    "### Evaluation"
   ]
  },
  {
   "cell_type": "code",
   "execution_count": 35,
   "metadata": {},
   "outputs": [],
   "source": [
    "ss = StandardScaler()\n",
    "\n",
    "X = ss.fit_transform(data[features].values)\n",
    "y = data[target].values\n",
    "\n",
    "X_test = ss.transform(data[features].values)"
   ]
  },
  {
   "cell_type": "code",
   "execution_count": 36,
   "metadata": {},
   "outputs": [
    {
     "name": "stderr",
     "output_type": "stream",
     "text": [
      "c:\\Python39\\lib\\site-packages\\sklearn\\base.py:450: UserWarning: X does not have valid feature names, but RFECV was fitted with feature names\n",
      "  warnings.warn(\n"
     ]
    }
   ],
   "source": [
    "rfecv.fit(X_train, y_train)\n",
    "y_pred = rfecv.predict(X_test)"
   ]
  },
  {
   "cell_type": "code",
   "execution_count": 40,
   "metadata": {
    "collapsed": false,
    "pycharm": {
     "name": "#%%\n"
    }
   },
   "outputs": [
    {
     "data": {
      "text/plain": [
       "<Figure size 432x288 with 0 Axes>"
      ]
     },
     "execution_count": 40,
     "metadata": {},
     "output_type": "execute_result"
    },
    {
     "data": {
      "text/plain": [
       "<Figure size 432x288 with 0 Axes>"
      ]
     },
     "metadata": {},
     "output_type": "display_data"
    }
   ],
   "source": [
    "def plot_confusion_matrix(cm, classes,\n",
    "                          normalize=False,\n",
    "                          title='Confusion matrix',\n",
    "                          cmap=plt.cm.Blues):\n",
    "    \"\"\"\n",
    "    This function prints and plots the confusion matrix.\n",
    "    Normalization can be applied by setting `normalize=True`.\n",
    "    \"\"\"\n",
    "    if normalize:\n",
    "        cm = cm.astype('float') / cm.sum(axis=1)[:, np.newaxis]\n",
    "        print(\"Normalized confusion matrix\")\n",
    "    else:\n",
    "        print('Confusion matrix, without normalization')\n",
    "\n",
    "    print(cm)\n",
    "\n",
    "    plt.imshow(cm, interpolation='nearest', cmap=cmap)\n",
    "    plt.title(title)\n",
    "    plt.colorbar()\n",
    "    tick_marks = np.arange(len(classes))\n",
    "    plt.xticks(tick_marks, classes, rotation=45)\n",
    "    plt.yticks(tick_marks, classes)\n",
    "\n",
    "    fmt = '.2f' if normalize else 'd'\n",
    "    thresh = cm.max() / 2.\n",
    "    for i, j in itertools.product(range(cm.shape[0]), range(cm.shape[1])):\n",
    "        plt.text(j, i, format(cm[i, j], fmt),\n",
    "                 horizontalalignment=\"center\",\n",
    "                 color=\"white\" if cm[i, j] > thresh else \"black\")\n",
    "\n",
    "    plt.tight_layout()\n",
    "    plt.ylabel('True label')\n",
    "    plt.xlabel('Predicted label')\n",
    "\n",
    "\n",
    "# cnf_matrix = confusion_matrix(y_test, y_pred)\n",
    "# np.set_printoptions(precision=2)\n",
    "\n",
    "# Plot non-normalized confusion matrix\n",
    "plt.figure()\n",
    "#plot_confusion_matrix(cnf_matrix, classes=['Good', 'Bad'],\n",
    "                      #title='Confusion matrix, without normalization')"
   ]
  },
  {
   "cell_type": "markdown",
   "metadata": {},
   "source": [
    "* Almost 100% (562/563) of the good requests were correctly predicted\n",
    "* About 57% of malicious requests were successfully predicted\n"
   ]
  },
  {
   "cell_type": "markdown",
   "metadata": {},
   "source": [
    "### Saving trained model to pickle file"
   ]
  },
  {
   "cell_type": "code",
   "execution_count": 41,
   "metadata": {},
   "outputs": [
    {
     "data": {
      "text/plain": [
       "RFECV(cv=2,\n",
       "      estimator=XGBClassifier(base_score=0.5, booster='gbtree',\n",
       "                              colsample_bylevel=1, colsample_bynode=1,\n",
       "                              colsample_bytree=1, enable_categorical=False,\n",
       "                              eval_metric='logloss', gamma=0, gpu_id=-1,\n",
       "                              importance_type=None, interaction_constraints='',\n",
       "                              learning_rate=0.3, max_delta_step=0, max_depth=1,\n",
       "                              min_child_weight=1, missing=nan,\n",
       "                              monotone_constraints='()', n_estimators=500,\n",
       "                              n_jobs=-1, num_parallel_tree=1, predictor='auto',\n",
       "                              random_state=343, reg_alpha=0, reg_lambda=1,\n",
       "                              scale_pos_weight=1, subsample=1,\n",
       "                              tree_method='exact', use_label_encoder=False,\n",
       "                              validate_parameters=1, verbosity=None),\n",
       "      n_jobs=-1, scoring='accuracy')"
      ]
     },
     "execution_count": 41,
     "metadata": {},
     "output_type": "execute_result"
    }
   ],
   "source": [
    "# Retrain on entire dataset\n",
    "rfecv.fit(data[features_selected].values, data[target].values)"
   ]
  },
  {
   "cell_type": "code",
   "execution_count": 42,
   "metadata": {},
   "outputs": [],
   "source": [
    "# Save to pickle file\n",
    "pd.to_pickle(rfecv, \"output/xgb_model.pkl\")\n"
   ]
  }
 ],
 "metadata": {
  "interpreter": {
   "hash": "81794d4967e6c3204c66dcd87b604927b115b27c00565d3d43f05ba2f3a2cb0d"
  },
  "kernelspec": {
   "display_name": "Python 3.9.0 64-bit",
   "language": "python",
   "name": "python3"
  },
  "language_info": {
   "codemirror_mode": {
    "name": "ipython",
    "version": 3
   },
   "file_extension": ".py",
   "mimetype": "text/x-python",
   "name": "python",
   "nbconvert_exporter": "python",
   "pygments_lexer": "ipython3",
   "version": "3.9.0"
  }
 },
 "nbformat": 4,
 "nbformat_minor": 0
}
