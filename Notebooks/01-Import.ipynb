{
 "cells": [
  {
   "cell_type": "markdown",
   "metadata": {
    "collapsed": false
   },
   "source": [
    "# Libraries to Import"
   ]
  },
  {
   "cell_type": "code",
   "execution_count": 94,
   "metadata": {
    "collapsed": false,
    "pycharm": {
     "name": "#%%\n"
    }
   },
   "outputs": [],
   "source": [
    "from urllib.parse import unquote\n",
    "import base64\n",
    "import csv\n",
    "import time\n",
    "import xml.etree.ElementTree as ET\n",
    "import pandas as pd\n",
    "import seaborn as sns\n",
    "\n",
    "pd.set_option('display.max_columns', 500)\n",
    "pd.set_option('display.width', 1000)\n",
    "\n",
    "sns.set_style(\"darkgrid\")\n",
    "\n",
    "DEBUG = True\n",
    "SEED = 343"
   ]
  },
  {
   "cell_type": "code",
   "execution_count": 95,
   "metadata": {
    "collapsed": false,
    "pycharm": {
     "name": "#%%\n"
    }
   },
   "outputs": [],
   "source": [
    "import os\n",
    "\n",
    "for d in ['orig','data','output']:\n",
    "    if not os.path.isdir(d): os.makedirs(d, mode=0, exist_ok=True)"
   ]
  },
  {
   "cell_type": "code",
   "execution_count": 96,
   "id": "1d543029-ad19-4453-b83f-981de20ad71b",
   "metadata": {},
   "outputs": [],
   "source": [
    "# Parse logs into readable format\n",
    "class LogParse:\n",
    "    def __init__(self):\n",
    "        pass\n",
    "    def parse_log(self, log_path):\n",
    "        result = {}\n",
    "        try:\n",
    "            with open(log_path):\n",
    "                pass\n",
    "        except IOError:\n",
    "            print(\"Error, file not found!\")\n",
    "            exit()\n",
    "        try:\n",
    "            tree = ET.parse(log_path)\n",
    "        except Exception:\n",
    "            print(\"Error\")\n",
    "            exit()\n",
    "        root = tree.getroot()\n",
    "\n",
    "        for reqs in root.findall('item'):\n",
    "            raw_req = reqs.find('request').text\n",
    "            raw_req = unquote(raw_req)\n",
    "            raw_response = reqs.find('response').text\n",
    "            result[raw_req] = raw_response\n",
    "        return result\n",
    "\n",
    "    def parseRawHTTPReq(self, rawreq):\n",
    "        try:\n",
    "            raw = rawreq.decode('utf-8')\n",
    "        except Exception:\n",
    "            raw = rawreq\n",
    "        global headers, method, body, path\n",
    "        headers = {}\n",
    "        sep = raw.split('\\r\\n\\r', 1)\n",
    "        if sep[1] != \"\":\n",
    "            head = sep[0]\n",
    "            body = sep[1]\n",
    "        else:\n",
    "            head = sep[0]\n",
    "            body = \"\"\n",
    "        count1 = head.split('\\n', head.count('\\n'))\n",
    "        method = count1[0].split(' ', 2)[0]\n",
    "        path = count1[0].split(' ', 2)[1]\n",
    "        for i in range(1, head.count('\\n') + 1):\n",
    "            slice1 = count1[i].split(': ', 1)\n",
    "            if slice1[0] != \"\":\n",
    "                try:\n",
    "                    headers[slice1[0]] = slice1[1]\n",
    "                except:\n",
    "                    pass\n",
    "        return headers, method, body, path\n",
    "\n",
    "# Define words associated with malicious attacks\n",
    "malwords = ['SLEEP', 'DROP', 'UNION', 'SELECT', 'WAITFOR', 'DELAY', 'ORDER BY', 'GROUP BY', 'DELETE','OR', 'AND', 'WHERE']\n",
    "\n",
    "# Extract features from parsed logs\n",
    "def ExtractFeatures(method, path, body, headers, class_flag):\n",
    "    malwords_count = 0\n",
    "    single_q = path.count(\"'\") + body.count(\"'\")\n",
    "    double_q = path.count(\"\\\"\") + body.count(\"\\\"\")\n",
    "    dashes = path.count(\"--\") + body.count(\"--\")\n",
    "    braces = path.count(\"(\") + body.count(\"(\")\n",
    "    slash = path.count(\"/\") + body.count(\"/\")\n",
    "    dots = path.count(\".\") + body.count(\".\")\n",
    "    asterik = path.count(\"*\") + body.count(\"*\")\n",
    "    for word in malwords:\n",
    "        malwords_count += path.count(word) + body.count(word)\n",
    "    for word in headers:\n",
    "        malwords_count += path.count(word) + body.count(word)\n",
    "    for header in headers:\n",
    "        malwords_count += headers[header].count(word) + headers[header].count(word)\n",
    "\n",
    "    return [method, path.strip(), body.strip(), single_q, double_q, dashes, braces, slash,dots, asterik, malwords_count, class_flag]"
   ]
  },
  {
   "cell_type": "code",
   "execution_count": 97,
   "metadata": {
    "collapsed": false,
    "pycharm": {
     "name": "#%%\n"
    }
   },
   "outputs": [],
   "source": [
    "# Function to \n",
    "def write_to_file(filename, log_path, class_flag):\n",
    "    f = open(filename, 'w')\n",
    "    c = csv.writer(f)\n",
    "    c.writerow([\"Method\", \"Path\", \"Body\", \"Single_Q\", \"Double_Q\", \"Dashes\", \"Braces\", \"Slashes\", \"Dots\", \"Asterik\",  \"Bad_Words\", 'target'])\n",
    "    f.close()\n",
    "    lp = LogParse()\n",
    "    result = lp.parse_log(log_path)\n",
    "    f = open(filename, \"a\")\n",
    "    c = csv.writer(f, lineterminator='\\n')\n",
    "    if result is not None:\n",
    "        for items in result:\n",
    "            raaw = base64.b64decode(items)\n",
    "            headers, method, body, path = lp.parseRawHTTPReq(raaw)\n",
    "            result = ExtractFeatures(method, path, body, headers, class_flag)\n",
    "            c.writerow(result)\n",
    "        f.close()\n",
    "    else:\n",
    "        print(\"File cannot be converted!\")"
   ]
  },
  {
   "cell_type": "code",
   "execution_count": 98,
   "metadata": {
    "collapsed": false,
    "pycharm": {
     "name": "#%%\n"
    }
   },
   "outputs": [],
   "source": [
    "# Parsing and converting both good and bad log files\n",
    "timestr = time.strftime(\"%Y%m%d-%H%M%S\")\n",
    "extension = \".csv\"\n",
    "\n",
    "# Naming the csv files based on the current time\n",
    "good_csv_filename = 'good-' + timestr + extension\n",
    "bad_csv_filename = 'bad-' + timestr + extension\n",
    "\n",
    "# Log files to be used\n",
    "good_logs = 'good_logs'\n",
    "bad_logs = 'burp_bad_traffic_new'\n",
    "\n",
    "# Class labels to add to the log files\n",
    "good_class_flag = 0\n",
    "bad_class_flag = 1\n",
    "\n",
    "# Write parsed logs to CSV files\n",
    "write_to_file(good_csv_filename, good_logs, good_class_flag)\n",
    "write_to_file(bad_csv_filename, bad_logs, bad_class_flag)"
   ]
  },
  {
   "cell_type": "code",
   "execution_count": 99,
   "metadata": {
    "collapsed": false,
    "pycharm": {
     "name": "#%%\n"
    }
   },
   "outputs": [
    {
     "name": "stdout",
     "output_type": "stream",
     "text": [
      "(3093, 12)\n"
     ]
    },
    {
     "data": {
      "text/html": [
       "<div>\n",
       "<style scoped>\n",
       "    .dataframe tbody tr th:only-of-type {\n",
       "        vertical-align: middle;\n",
       "    }\n",
       "\n",
       "    .dataframe tbody tr th {\n",
       "        vertical-align: top;\n",
       "    }\n",
       "\n",
       "    .dataframe thead th {\n",
       "        text-align: right;\n",
       "    }\n",
       "</style>\n",
       "<table border=\"1\" class=\"dataframe\">\n",
       "  <thead>\n",
       "    <tr style=\"text-align: right;\">\n",
       "      <th></th>\n",
       "      <th>Method</th>\n",
       "      <th>Path</th>\n",
       "      <th>Body</th>\n",
       "      <th>Single_Q</th>\n",
       "      <th>Double_Q</th>\n",
       "      <th>Dashes</th>\n",
       "      <th>Braces</th>\n",
       "      <th>Slashes</th>\n",
       "      <th>Dots</th>\n",
       "      <th>Asterik</th>\n",
       "      <th>Bad_Words</th>\n",
       "      <th>target</th>\n",
       "    </tr>\n",
       "  </thead>\n",
       "  <tbody>\n",
       "    <tr>\n",
       "      <th>0</th>\n",
       "      <td>GET</td>\n",
       "      <td>/6195b252_3973263ec9bb3e4b938c5c86e3e974cdd8e2...</td>\n",
       "      <td>NaN</td>\n",
       "      <td>0</td>\n",
       "      <td>0</td>\n",
       "      <td>0</td>\n",
       "      <td>0</td>\n",
       "      <td>6</td>\n",
       "      <td>2</td>\n",
       "      <td>0</td>\n",
       "      <td>0</td>\n",
       "      <td>0</td>\n",
       "    </tr>\n",
       "    <tr>\n",
       "      <th>1</th>\n",
       "      <td>GET</td>\n",
       "      <td>/v1/jwplayer6/ping.gif?h=2100168025&amp;e=t&amp;n=8063...</td>\n",
       "      <td>NaN</td>\n",
       "      <td>0</td>\n",
       "      <td>0</td>\n",
       "      <td>0</td>\n",
       "      <td>0</td>\n",
       "      <td>3</td>\n",
       "      <td>9</td>\n",
       "      <td>0</td>\n",
       "      <td>0</td>\n",
       "      <td>0</td>\n",
       "    </tr>\n",
       "    <tr>\n",
       "      <th>2</th>\n",
       "      <td>GET</td>\n",
       "      <td>/6195b252_3973263ec9bb3e4b938c5c86e3e974cdd8e2...</td>\n",
       "      <td>NaN</td>\n",
       "      <td>0</td>\n",
       "      <td>0</td>\n",
       "      <td>0</td>\n",
       "      <td>0</td>\n",
       "      <td>6</td>\n",
       "      <td>2</td>\n",
       "      <td>0</td>\n",
       "      <td>0</td>\n",
       "      <td>0</td>\n",
       "    </tr>\n",
       "    <tr>\n",
       "      <th>3</th>\n",
       "      <td>GET</td>\n",
       "      <td>/6195b252_3973263ec9bb3e4b938c5c86e3e974cdd8e2...</td>\n",
       "      <td>NaN</td>\n",
       "      <td>0</td>\n",
       "      <td>0</td>\n",
       "      <td>0</td>\n",
       "      <td>0</td>\n",
       "      <td>6</td>\n",
       "      <td>2</td>\n",
       "      <td>0</td>\n",
       "      <td>0</td>\n",
       "      <td>0</td>\n",
       "    </tr>\n",
       "    <tr>\n",
       "      <th>4</th>\n",
       "      <td>GET</td>\n",
       "      <td>/v1/jwplayer6/ping.gif?h=-1588266826&amp;e=ret&amp;n=1...</td>\n",
       "      <td>NaN</td>\n",
       "      <td>0</td>\n",
       "      <td>0</td>\n",
       "      <td>0</td>\n",
       "      <td>0</td>\n",
       "      <td>3</td>\n",
       "      <td>9</td>\n",
       "      <td>0</td>\n",
       "      <td>0</td>\n",
       "      <td>0</td>\n",
       "    </tr>\n",
       "    <tr>\n",
       "      <th>...</th>\n",
       "      <td>...</td>\n",
       "      <td>...</td>\n",
       "      <td>...</td>\n",
       "      <td>...</td>\n",
       "      <td>...</td>\n",
       "      <td>...</td>\n",
       "      <td>...</td>\n",
       "      <td>...</td>\n",
       "      <td>...</td>\n",
       "      <td>...</td>\n",
       "      <td>...</td>\n",
       "      <td>...</td>\n",
       "    </tr>\n",
       "    <tr>\n",
       "      <th>1066</th>\n",
       "      <td>GET</td>\n",
       "      <td>/'%22%3e%3csvg/onload%3dfetch%60//qjd4gbcdu3ud...</td>\n",
       "      <td>NaN</td>\n",
       "      <td>1</td>\n",
       "      <td>0</td>\n",
       "      <td>0</td>\n",
       "      <td>0</td>\n",
       "      <td>5</td>\n",
       "      <td>3</td>\n",
       "      <td>0</td>\n",
       "      <td>0</td>\n",
       "      <td>1</td>\n",
       "    </tr>\n",
       "    <tr>\n",
       "      <th>1067</th>\n",
       "      <td>GET</td>\n",
       "      <td>/swagger/javascript%3a/*%3c/script%3e%3cimg/on...</td>\n",
       "      <td>NaN</td>\n",
       "      <td>2</td>\n",
       "      <td>0</td>\n",
       "      <td>0</td>\n",
       "      <td>4</td>\n",
       "      <td>20</td>\n",
       "      <td>5</td>\n",
       "      <td>2</td>\n",
       "      <td>0</td>\n",
       "      <td>1</td>\n",
       "    </tr>\n",
       "    <tr>\n",
       "      <th>1068</th>\n",
       "      <td>GET</td>\n",
       "      <td>/javascript%3a/*%3c/script%3e%3cimg/onerror%3d...</td>\n",
       "      <td>NaN</td>\n",
       "      <td>2</td>\n",
       "      <td>0</td>\n",
       "      <td>0</td>\n",
       "      <td>4</td>\n",
       "      <td>20</td>\n",
       "      <td>6</td>\n",
       "      <td>2</td>\n",
       "      <td>0</td>\n",
       "      <td>1</td>\n",
       "    </tr>\n",
       "    <tr>\n",
       "      <th>1069</th>\n",
       "      <td>GET</td>\n",
       "      <td>/swagger/'%22%3e%3csvg/onload%3dfetch%60//4z4i...</td>\n",
       "      <td>NaN</td>\n",
       "      <td>1</td>\n",
       "      <td>0</td>\n",
       "      <td>0</td>\n",
       "      <td>0</td>\n",
       "      <td>5</td>\n",
       "      <td>2</td>\n",
       "      <td>0</td>\n",
       "      <td>0</td>\n",
       "      <td>1</td>\n",
       "    </tr>\n",
       "    <tr>\n",
       "      <th>1070</th>\n",
       "      <td>GET</td>\n",
       "      <td>/swagger/javascript%3a/*%3c/script%3e%3cimg/on...</td>\n",
       "      <td>NaN</td>\n",
       "      <td>2</td>\n",
       "      <td>0</td>\n",
       "      <td>0</td>\n",
       "      <td>4</td>\n",
       "      <td>20</td>\n",
       "      <td>5</td>\n",
       "      <td>2</td>\n",
       "      <td>0</td>\n",
       "      <td>1</td>\n",
       "    </tr>\n",
       "  </tbody>\n",
       "</table>\n",
       "<p>3093 rows × 12 columns</p>\n",
       "</div>"
      ],
      "text/plain": [
       "     Method                                               Path Body  Single_Q  Double_Q  Dashes  Braces  Slashes  Dots  Asterik  Bad_Words  target\n",
       "0       GET  /6195b252_3973263ec9bb3e4b938c5c86e3e974cdd8e2...  NaN         0         0       0       0        6     2        0          0       0\n",
       "1       GET  /v1/jwplayer6/ping.gif?h=2100168025&e=t&n=8063...  NaN         0         0       0       0        3     9        0          0       0\n",
       "2       GET  /6195b252_3973263ec9bb3e4b938c5c86e3e974cdd8e2...  NaN         0         0       0       0        6     2        0          0       0\n",
       "3       GET  /6195b252_3973263ec9bb3e4b938c5c86e3e974cdd8e2...  NaN         0         0       0       0        6     2        0          0       0\n",
       "4       GET  /v1/jwplayer6/ping.gif?h=-1588266826&e=ret&n=1...  NaN         0         0       0       0        3     9        0          0       0\n",
       "...     ...                                                ...  ...       ...       ...     ...     ...      ...   ...      ...        ...     ...\n",
       "1066    GET  /'%22%3e%3csvg/onload%3dfetch%60//qjd4gbcdu3ud...  NaN         1         0       0       0        5     3        0          0       1\n",
       "1067    GET  /swagger/javascript%3a/*%3c/script%3e%3cimg/on...  NaN         2         0       0       4       20     5        2          0       1\n",
       "1068    GET  /javascript%3a/*%3c/script%3e%3cimg/onerror%3d...  NaN         2         0       0       4       20     6        2          0       1\n",
       "1069    GET  /swagger/'%22%3e%3csvg/onload%3dfetch%60//4z4i...  NaN         1         0       0       0        5     2        0          0       1\n",
       "1070    GET  /swagger/javascript%3a/*%3c/script%3e%3cimg/on...  NaN         2         0       0       4       20     5        2          0       1\n",
       "\n",
       "[3093 rows x 12 columns]"
      ]
     },
     "execution_count": 99,
     "metadata": {},
     "output_type": "execute_result"
    }
   ],
   "source": [
    "# Read and convert csv files to dataframes\n",
    "good_data = pd.read_csv(good_csv_filename)\n",
    "bad_data = pd.read_csv(bad_csv_filename)\n",
    "\n",
    "# Merging both datasets into one\n",
    "data = pd.concat([good_data, bad_data], axis=0)\n",
    "print(data.shape)\n",
    "data"
   ]
  },
  {
   "cell_type": "code",
   "execution_count": 100,
   "metadata": {
    "collapsed": false,
    "pycharm": {
     "name": "#%%\n"
    }
   },
   "outputs": [],
   "source": [
    "# Save data to original data folder for later use\n",
    "data.to_csv(\"orig/data.csv\", index=False)"
   ]
  },
  {
   "cell_type": "code",
   "execution_count": 101,
   "metadata": {
    "collapsed": false,
    "pycharm": {
     "name": "#%%\n"
    }
   },
   "outputs": [
    {
     "data": {
      "text/plain": [
       "0    2022\n",
       "1    1071\n",
       "Name: target, dtype: int64"
      ]
     },
     "execution_count": 101,
     "metadata": {},
     "output_type": "execute_result"
    }
   ],
   "source": [
    "# Split of good/bad data\n",
    "data.target.value_counts(normalize=0)"
   ]
  },
  {
   "cell_type": "code",
   "execution_count": 102,
   "metadata": {
    "collapsed": false,
    "pycharm": {
     "name": "#%%\n"
    }
   },
   "outputs": [],
   "source": [
    "# Defining the features and target\n",
    "target = 'target'\n",
    "features = data.columns.to_list()\n",
    "features.remove(target)"
   ]
  },
  {
   "cell_type": "markdown",
   "metadata": {
    "collapsed": false
   },
   "source": [
    "## Data Cleaning"
   ]
  },
  {
   "cell_type": "code",
   "execution_count": 103,
   "metadata": {
    "collapsed": false,
    "pycharm": {
     "name": "#%%\n"
    }
   },
   "outputs": [
    {
     "data": {
      "text/plain": [
       "Method       object\n",
       "Path         object\n",
       "Body         object\n",
       "Single_Q      int64\n",
       "Double_Q      int64\n",
       "Dashes        int64\n",
       "Braces        int64\n",
       "Slashes       int64\n",
       "Dots          int64\n",
       "Asterik       int64\n",
       "Bad_Words     int64\n",
       "target        int64\n",
       "dtype: object"
      ]
     },
     "execution_count": 103,
     "metadata": {},
     "output_type": "execute_result"
    }
   ],
   "source": [
    "data.dtypes"
   ]
  },
  {
   "cell_type": "code",
   "execution_count": 104,
   "metadata": {
    "collapsed": false,
    "pycharm": {
     "name": "#%%\n"
    }
   },
   "outputs": [
    {
     "name": "stdout",
     "output_type": "stream",
     "text": [
      "Shape (3093, 12)\n",
      "Missing Values for column - Body: 3028\n"
     ]
    }
   ],
   "source": [
    "# Displaying the missing values\n",
    "print(f\"Shape {data.shape}\")\n",
    "\n",
    "for c in data.columns:\n",
    "    if data[c].isna().sum() > 0:\n",
    "        print(f\"Missing Values for column - {c}:\", data[c].isna().sum())"
   ]
  },
  {
   "cell_type": "code",
   "execution_count": 105,
   "metadata": {
    "collapsed": false,
    "pycharm": {
     "name": "#%%\n"
    }
   },
   "outputs": [
    {
     "name": "stdout",
     "output_type": "stream",
     "text": [
      "Missing values 0\n"
     ]
    }
   ],
   "source": [
    "# Missing data is converted to an empty string\n",
    "data['Body'] = data.Body.fillna(\"\")\n",
    "print(f'Missing values {data.isna().sum().sum()}')"
   ]
  },
  {
   "cell_type": "code",
   "execution_count": 106,
   "metadata": {
    "collapsed": false,
    "pycharm": {
     "name": "#%%\n"
    }
   },
   "outputs": [
    {
     "data": {
      "text/plain": [
       "(2569, 12)"
      ]
     },
     "execution_count": 106,
     "metadata": {},
     "output_type": "execute_result"
    }
   ],
   "source": [
    "# Dropping duplicate rows\n",
    "data = data.drop_duplicates(keep='first')\n",
    "data.shape"
   ]
  },
  {
   "cell_type": "code",
   "execution_count": 107,
   "metadata": {
    "collapsed": false,
    "pycharm": {
     "name": "#%%\n"
    }
   },
   "outputs": [
    {
     "data": {
      "text/plain": [
       "(2489, 12)"
      ]
     },
     "execution_count": 107,
     "metadata": {},
     "output_type": "execute_result"
    }
   ],
   "source": [
    "# Dropping conflicting cases (cases with identical features but differing class labels)\n",
    "data = data.drop_duplicates(subset=features, keep=False)\n",
    "data.shape"
   ]
  },
  {
   "cell_type": "code",
   "execution_count": 108,
   "id": "991d3aa5",
   "metadata": {},
   "outputs": [
    {
     "data": {
      "text/plain": [
       "(2489, 12)"
      ]
     },
     "execution_count": 108,
     "metadata": {},
     "output_type": "execute_result"
    }
   ],
   "source": [
    "# Searching for and dropping columns with only one unique value.\n",
    "for c in data.columns:\n",
    "    if data[c].value_counts().count() == 1:\n",
    "        print(f\"Dropped column - {c} as it only has one unique value\")\n",
    "        data.drop(columns=c, inplace=True)\n",
    "data.shape"
   ]
  },
  {
   "cell_type": "code",
   "execution_count": 109,
   "id": "1c137560",
   "metadata": {},
   "outputs": [
    {
     "data": {
      "text/plain": [
       "0    1934\n",
       "1     555\n",
       "Name: target, dtype: int64"
      ]
     },
     "execution_count": 109,
     "metadata": {},
     "output_type": "execute_result"
    }
   ],
   "source": [
    "data.target.value_counts()"
   ]
  },
  {
   "cell_type": "markdown",
   "metadata": {
    "collapsed": false
   },
   "source": [
    "# Save cleaned data to file"
   ]
  },
  {
   "cell_type": "code",
   "execution_count": 110,
   "metadata": {
    "collapsed": false,
    "pycharm": {
     "name": "#%%\n"
    }
   },
   "outputs": [],
   "source": [
    "data.to_csv(\"data/cleaned_data.csv\", index=False)"
   ]
  }
 ],
 "metadata": {
  "kernelspec": {
   "display_name": "Python 3 (ipykernel)",
   "language": "python",
   "name": "python3"
  },
  "language_info": {
   "codemirror_mode": {
    "name": "ipython",
    "version": 3
   },
   "file_extension": ".py",
   "mimetype": "text/x-python",
   "name": "python",
   "nbconvert_exporter": "python",
   "pygments_lexer": "ipython3",
   "version": "3.9.0"
  }
 },
 "nbformat": 4,
 "nbformat_minor": 5
}
